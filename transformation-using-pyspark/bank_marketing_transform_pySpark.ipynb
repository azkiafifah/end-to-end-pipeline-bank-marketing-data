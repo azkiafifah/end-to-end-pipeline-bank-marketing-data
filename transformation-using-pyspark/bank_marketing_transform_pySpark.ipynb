{
  "cells": [
    {
      "cell_type": "markdown",
      "metadata": {
        "id": "Fftyy6eIYwES"
      },
      "source": [
        "# Import Dependencies"
      ]
    },
    {
      "cell_type": "code",
      "source": [
        "!pip install -q findspark"
      ],
      "metadata": {
        "id": "xmKO1mRlZU8_"
      },
      "execution_count": 1,
      "outputs": []
    },
    {
      "cell_type": "code",
      "source": [
        "!pip install pyspark"
      ],
      "metadata": {
        "colab": {
          "base_uri": "https://localhost:8080/"
        },
        "id": "azbpqeTAZYfI",
        "outputId": "6676afef-6bc9-4bac-8d63-a2cffc4c073e"
      },
      "execution_count": 2,
      "outputs": [
        {
          "output_type": "stream",
          "name": "stdout",
          "text": [
            "Looking in indexes: https://pypi.org/simple, https://us-python.pkg.dev/colab-wheels/public/simple/\n",
            "Collecting pyspark\n",
            "  Downloading pyspark-3.3.0.tar.gz (281.3 MB)\n",
            "\u001b[K     |████████████████████████████████| 281.3 MB 56 kB/s \n",
            "\u001b[33mWARNING: Retrying (Retry(total=4, connect=None, read=None, redirect=None, status=None)) after connection broken by 'ProtocolError('Connection aborted.', ConnectionResetError(104, 'Connection reset by peer'))': /simple/py4j/\u001b[0m\n",
            "\u001b[?25hCollecting py4j==0.10.9.5\n",
            "  Downloading py4j-0.10.9.5-py2.py3-none-any.whl (199 kB)\n",
            "\u001b[K     |████████████████████████████████| 199 kB 72.2 MB/s \n",
            "\u001b[?25hBuilding wheels for collected packages: pyspark\n",
            "  Building wheel for pyspark (setup.py) ... \u001b[?25l\u001b[?25hdone\n",
            "  Created wheel for pyspark: filename=pyspark-3.3.0-py2.py3-none-any.whl size=281764026 sha256=d2fa5d41cef3c47edf3cc99e3a0c469646da52c4fca7980b21403ed4f551ec09\n",
            "  Stored in directory: /root/.cache/pip/wheels/7a/8e/1b/f73a52650d2e5f337708d9f6a1750d451a7349a867f928b885\n",
            "Successfully built pyspark\n",
            "Installing collected packages: py4j, pyspark\n",
            "Successfully installed py4j-0.10.9.5 pyspark-3.3.0\n"
          ]
        }
      ]
    },
    {
      "cell_type": "code",
      "source": [
        "import findspark\n",
        "findspark.init()"
      ],
      "metadata": {
        "id": "dQ7pmwDSZbxB"
      },
      "execution_count": 3,
      "outputs": []
    },
    {
      "cell_type": "code",
      "execution_count": 4,
      "metadata": {
        "id": "swiRS-qNYwET"
      },
      "outputs": [],
      "source": [
        "import pyspark\n",
        "from pyspark.sql import SparkSession\n",
        "from pyspark.sql import functions"
      ]
    },
    {
      "cell_type": "code",
      "execution_count": 5,
      "metadata": {
        "id": "99xz6VFnYwEU"
      },
      "outputs": [],
      "source": [
        "spark = SparkSession.builder \\\n",
        "    .master(\"local[*]\") \\\n",
        "    .appName('project-de') \\\n",
        "    .getOrCreate()"
      ]
    },
    {
      "cell_type": "code",
      "execution_count": 6,
      "metadata": {
        "colab": {
          "base_uri": "https://localhost:8080/",
          "height": 221
        },
        "id": "gbHZDLbyYwEU",
        "outputId": "283deb69-b836-4c47-85ea-06f4ba276ba4"
      },
      "outputs": [
        {
          "output_type": "execute_result",
          "data": {
            "text/plain": [
              "<pyspark.sql.session.SparkSession at 0x7fd958aa8b50>"
            ],
            "text/html": [
              "\n",
              "            <div>\n",
              "                <p><b>SparkSession - in-memory</b></p>\n",
              "                \n",
              "        <div>\n",
              "            <p><b>SparkContext</b></p>\n",
              "\n",
              "            <p><a href=\"http://b65caf5b7c6a:4040\">Spark UI</a></p>\n",
              "\n",
              "            <dl>\n",
              "              <dt>Version</dt>\n",
              "                <dd><code>v3.3.0</code></dd>\n",
              "              <dt>Master</dt>\n",
              "                <dd><code>local[*]</code></dd>\n",
              "              <dt>AppName</dt>\n",
              "                <dd><code>project-de</code></dd>\n",
              "            </dl>\n",
              "        </div>\n",
              "        \n",
              "            </div>\n",
              "        "
            ]
          },
          "metadata": {},
          "execution_count": 6
        }
      ],
      "source": [
        "spark"
      ]
    },
    {
      "cell_type": "markdown",
      "metadata": {
        "id": "x9Qep8DjYwEV"
      },
      "source": [
        "# Extracting Data"
      ]
    },
    {
      "cell_type": "code",
      "execution_count": null,
      "metadata": {
        "id": "bFI7QZkvYwEV"
      },
      "outputs": [],
      "source": [
        "#url = 'https://storage.googleapis.com/wfwijaya-fellowship/bank-marketing.csv'\n",
        "#df_download = wget.download(url)"
      ]
    },
    {
      "cell_type": "code",
      "source": [
        "!wget 'https://storage.googleapis.com/wfwijaya-fellowship/bank-marketing.csv'"
      ],
      "metadata": {
        "colab": {
          "base_uri": "https://localhost:8080/"
        },
        "id": "27ibNdbWbgv5",
        "outputId": "506eca84-d111-4485-e675-6313472c5d28"
      },
      "execution_count": 7,
      "outputs": [
        {
          "output_type": "stream",
          "name": "stdout",
          "text": [
            "--2022-10-14 02:59:04--  https://storage.googleapis.com/wfwijaya-fellowship/bank-marketing.csv\n",
            "Resolving storage.googleapis.com (storage.googleapis.com)... 108.177.98.128, 74.125.197.128, 74.125.142.128, ...\n",
            "Connecting to storage.googleapis.com (storage.googleapis.com)|108.177.98.128|:443... connected.\n",
            "HTTP request sent, awaiting response... 200 OK\n",
            "Length: 4928746 (4.7M) [text/csv]\n",
            "Saving to: ‘bank-marketing.csv’\n",
            "\n",
            "\rbank-marketing.csv    0%[                    ]       0  --.-KB/s               \rbank-marketing.csv  100%[===================>]   4.70M  --.-KB/s    in 0.03s   \n",
            "\n",
            "2022-10-14 02:59:04 (142 MB/s) - ‘bank-marketing.csv’ saved [4928746/4928746]\n",
            "\n"
          ]
        }
      ]
    },
    {
      "cell_type": "code",
      "execution_count": 8,
      "metadata": {
        "id": "f_QenAltYwEV"
      },
      "outputs": [],
      "source": [
        "df = spark.read.csv('bank-marketing.csv', header = True, inferSchema = True)\n",
        "df1 = spark.read.csv('bank-marketing.csv', header = True, inferSchema = True).createOrReplaceTempView('bank_marketing')"
      ]
    },
    {
      "cell_type": "code",
      "execution_count": 9,
      "metadata": {
        "colab": {
          "base_uri": "https://localhost:8080/"
        },
        "id": "urBmbNkLYwEV",
        "outputId": "3941fb79-39fd-4361-cda8-fde64e59c8dd"
      },
      "outputs": [
        {
          "output_type": "stream",
          "name": "stdout",
          "text": [
            "+---+---------+-------+-----------+-------+-------+----+---------+-----+-----------+--------+--------+-----+--------+-----------+------------+--------------+-------------+---------+-----------+---+\n",
            "|age|      job|marital|  education|default|housing|loan|  contact|month|day_of_week|duration|campaign|pdays|previous|   poutcome|emp.var.rate|cons.price.idx|cons.conf.idx|euribor3m|nr.employed|  y|\n",
            "+---+---------+-------+-----------+-------+-------+----+---------+-----+-----------+--------+--------+-----+--------+-----------+------------+--------------+-------------+---------+-----------+---+\n",
            "| 56|housemaid|married|   basic.4y|     no|     no|  no|telephone|  may|        mon|     261|       1|  999|       0|nonexistent|         1.1|        93.994|        -36.4|    4.857|     5191.0| no|\n",
            "| 57| services|married|high.school|unknown|     no|  no|telephone|  may|        mon|     149|       1|  999|       0|nonexistent|         1.1|        93.994|        -36.4|    4.857|     5191.0| no|\n",
            "| 37| services|married|high.school|     no|    yes|  no|telephone|  may|        mon|     226|       1|  999|       0|nonexistent|         1.1|        93.994|        -36.4|    4.857|     5191.0| no|\n",
            "| 40|   admin.|married|   basic.6y|     no|     no|  no|telephone|  may|        mon|     151|       1|  999|       0|nonexistent|         1.1|        93.994|        -36.4|    4.857|     5191.0| no|\n",
            "| 56| services|married|high.school|     no|     no| yes|telephone|  may|        mon|     307|       1|  999|       0|nonexistent|         1.1|        93.994|        -36.4|    4.857|     5191.0| no|\n",
            "+---+---------+-------+-----------+-------+-------+----+---------+-----+-----------+--------+--------+-----+--------+-----------+------------+--------------+-------------+---------+-----------+---+\n",
            "only showing top 5 rows\n",
            "\n"
          ]
        }
      ],
      "source": [
        "df.show(5)"
      ]
    },
    {
      "cell_type": "code",
      "execution_count": 10,
      "metadata": {
        "colab": {
          "base_uri": "https://localhost:8080/"
        },
        "id": "FJcQuzHYYwEV",
        "outputId": "c406f950-2763-41f0-82ce-f06856576482"
      },
      "outputs": [
        {
          "output_type": "execute_result",
          "data": {
            "text/plain": [
              "[('age', 'int'),\n",
              " ('job', 'string'),\n",
              " ('marital', 'string'),\n",
              " ('education', 'string'),\n",
              " ('default', 'string'),\n",
              " ('housing', 'string'),\n",
              " ('loan', 'string'),\n",
              " ('contact', 'string'),\n",
              " ('month', 'string'),\n",
              " ('day_of_week', 'string'),\n",
              " ('duration', 'int'),\n",
              " ('campaign', 'int'),\n",
              " ('pdays', 'int'),\n",
              " ('previous', 'int'),\n",
              " ('poutcome', 'string'),\n",
              " ('emp.var.rate', 'double'),\n",
              " ('cons.price.idx', 'double'),\n",
              " ('cons.conf.idx', 'double'),\n",
              " ('euribor3m', 'double'),\n",
              " ('nr.employed', 'double'),\n",
              " ('y', 'string')]"
            ]
          },
          "metadata": {},
          "execution_count": 10
        }
      ],
      "source": [
        "df.dtypes"
      ]
    },
    {
      "cell_type": "code",
      "execution_count": 11,
      "metadata": {
        "id": "zKWURaJrYwEW"
      },
      "outputs": [],
      "source": [
        "df_clean = df.select('age', 'job', 'marital', 'education', 'default', 'housing', 'loan').na.drop()"
      ]
    },
    {
      "cell_type": "code",
      "execution_count": 12,
      "metadata": {
        "colab": {
          "base_uri": "https://localhost:8080/"
        },
        "id": "onDUFjoNYwEW",
        "outputId": "c7024eac-3eb6-452f-d10c-7f7d32380766"
      },
      "outputs": [
        {
          "output_type": "stream",
          "name": "stdout",
          "text": [
            "+---+-----------+--------+-------------------+-------+-------+----+\n",
            "|age|        job| marital|          education|default|housing|loan|\n",
            "+---+-----------+--------+-------------------+-------+-------+----+\n",
            "| 56|  housemaid| married|           basic.4y|     no|     no|  no|\n",
            "| 57|   services| married|        high.school|unknown|     no|  no|\n",
            "| 37|   services| married|        high.school|     no|    yes|  no|\n",
            "| 40|     admin.| married|           basic.6y|     no|     no|  no|\n",
            "| 56|   services| married|        high.school|     no|     no| yes|\n",
            "| 45|   services| married|           basic.9y|unknown|     no|  no|\n",
            "| 59|     admin.| married|professional.course|     no|     no|  no|\n",
            "| 41|blue-collar| married|            unknown|unknown|     no|  no|\n",
            "| 24| technician|  single|professional.course|     no|    yes|  no|\n",
            "| 25|   services|  single|        high.school|     no|    yes|  no|\n",
            "| 41|blue-collar| married|            unknown|unknown|     no|  no|\n",
            "| 25|   services|  single|        high.school|     no|    yes|  no|\n",
            "| 29|blue-collar|  single|        high.school|     no|     no| yes|\n",
            "| 57|  housemaid|divorced|           basic.4y|     no|    yes|  no|\n",
            "| 35|blue-collar| married|           basic.6y|     no|    yes|  no|\n",
            "| 54|    retired| married|           basic.9y|unknown|    yes| yes|\n",
            "| 35|blue-collar| married|           basic.6y|     no|    yes|  no|\n",
            "| 46|blue-collar| married|           basic.6y|unknown|    yes| yes|\n",
            "| 50|blue-collar| married|           basic.9y|     no|    yes| yes|\n",
            "| 39| management|  single|           basic.9y|unknown|     no|  no|\n",
            "+---+-----------+--------+-------------------+-------+-------+----+\n",
            "only showing top 20 rows\n",
            "\n"
          ]
        }
      ],
      "source": [
        "df_clean.show()"
      ]
    },
    {
      "cell_type": "code",
      "execution_count": 13,
      "metadata": {
        "colab": {
          "base_uri": "https://localhost:8080/"
        },
        "id": "ixCdRWyCYwEW",
        "outputId": "8fbffbac-2c31-48e7-9050-f762be0b130f"
      },
      "outputs": [
        {
          "output_type": "stream",
          "name": "stdout",
          "text": [
            "+---+-------+-------+-----------+-------+-------+-------+\n",
            "|age|    job|marital|  education|default|housing|   loan|\n",
            "+---+-------+-------+-----------+-------+-------+-------+\n",
            "| 17|student| single|    unknown|     no|    yes|     no|\n",
            "| 17|student| single|   basic.9y|     no|    yes|     no|\n",
            "| 17|student| single|   basic.9y|     no|    yes|     no|\n",
            "| 17|student| single|   basic.9y|     no|unknown|unknown|\n",
            "| 17|student| single|    unknown|     no|     no|    yes|\n",
            "| 18|student| single|high.school|     no|     no|     no|\n",
            "| 18|student| single|high.school|     no|    yes|    yes|\n",
            "| 18|student| single|   basic.4y|     no|     no|     no|\n",
            "| 18|student| single|   basic.4y|     no|    yes|    yes|\n",
            "| 18|student| single|high.school|     no|     no|     no|\n",
            "| 18|student| single|high.school|     no|    yes|     no|\n",
            "| 18|student| single|   basic.9y|     no|    yes|     no|\n",
            "| 18|student| single|   basic.6y|     no|    yes|     no|\n",
            "| 18|student| single|    unknown|     no|     no|     no|\n",
            "| 18|student| single|    unknown|     no|    yes|     no|\n",
            "| 18|student| single|    unknown|     no|unknown|unknown|\n",
            "| 18|student| single|    unknown|     no|    yes|     no|\n",
            "| 18|student| single|    unknown|     no|     no|     no|\n",
            "| 18|student| single|   basic.6y|     no|     no|    yes|\n",
            "| 18|student| single|high.school|     no|     no|     no|\n",
            "+---+-------+-------+-----------+-------+-------+-------+\n",
            "only showing top 20 rows\n",
            "\n"
          ]
        }
      ],
      "source": [
        "df_cluster = spark.sql(\"SELECT age, job, marital, education, default, housing, loan FROM bank_marketing CLUSTER BY age\")\n",
        "df_cluster.show()"
      ]
    },
    {
      "cell_type": "markdown",
      "metadata": {
        "id": "gXIlpJCwYwEW"
      },
      "source": [
        "# Write to csv"
      ]
    },
    {
      "cell_type": "code",
      "source": [
        "df_cluster.coalesce(1).write.csv(\"bank_marketing_clean\", header=True)"
      ],
      "metadata": {
        "id": "LNOUQDkKbtvg"
      },
      "execution_count": 14,
      "outputs": []
    },
    {
      "cell_type": "code",
      "source": [
        "df_clean.coalesce(1).write.csv(\"bank_marketing_clean_data\", header = True)"
      ],
      "metadata": {
        "id": "1_noCC8fbyAy"
      },
      "execution_count": 15,
      "outputs": []
    },
    {
      "cell_type": "code",
      "source": [],
      "metadata": {
        "id": "DkGqLuWdb1ry"
      },
      "execution_count": null,
      "outputs": []
    }
  ],
  "metadata": {
    "kernelspec": {
      "display_name": "Python 3.10.4 64-bit",
      "language": "python",
      "name": "python3"
    },
    "language_info": {
      "codemirror_mode": {
        "name": "ipython",
        "version": 3
      },
      "file_extension": ".py",
      "mimetype": "text/x-python",
      "name": "python",
      "nbconvert_exporter": "python",
      "pygments_lexer": "ipython3",
      "version": "3.10.4"
    },
    "orig_nbformat": 4,
    "vscode": {
      "interpreter": {
        "hash": "361eb2f8eac8c5569ec7f4e600bc4ced56c3d184ed3c115c35e9929334f8756a"
      }
    },
    "colab": {
      "provenance": []
    }
  },
  "nbformat": 4,
  "nbformat_minor": 0
}